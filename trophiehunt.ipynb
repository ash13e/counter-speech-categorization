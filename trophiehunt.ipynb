{
 "cells": [
  {
   "cell_type": "code",
   "execution_count": 3,
   "id": "7237cc26-e6dc-4591-9bac-9bf14cbe3fe4",
   "metadata": {},
   "outputs": [],
   "source": [
    "# all imported goods\n",
    "import pandas as pd\n",
    "import seaborn as sns\n",
    "import numpy as np\n",
    "import matplotlib.pyplot as plt"
   ]
  },
  {
   "cell_type": "code",
   "execution_count": 4,
   "id": "cd4a8283-5ccb-4859-97fa-880203f94528",
   "metadata": {},
   "outputs": [
    {
     "name": "stdout",
     "output_type": "stream",
     "text": [
      "<class 'pandas.core.frame.DataFrame'>\n",
      "Index: 129263 entries, bizarrogreg to YourFavouriteGuy\n",
      "Data columns (total 39 columns):\n",
      " #   Column                  Non-Null Count   Dtype  \n",
      "---  ------                  --------------   -----  \n",
      " 0   Subreddit               129263 non-null  object \n",
      " 1   Submission              129263 non-null  object \n",
      " 2   Hate_body               129263 non-null  object \n",
      " 3   Hate_time               129263 non-null  int64  \n",
      " 4   Hate_ID                 129263 non-null  object \n",
      " 5   author_comment_karma    74806 non-null   float64\n",
      " 6   author_link_karma       74806 non-null   float64\n",
      " 7   author_create_utc       74806 non-null   float64\n",
      " 8   author_create_date      74806 non-null   object \n",
      " 9   author_age_of_account   74806 non-null   float64\n",
      " 10  author_mod              74806 non-null   object \n",
      " 11  author_mod_subreddits   74806 non-null   object \n",
      " 12  author_trophies         74806 non-null   object \n",
      " 13  author_Email_verified   74806 non-null   object \n",
      " 14  author_Year_Club        73907 non-null   float64\n",
      " 15  author_Gilde            15851 non-null   float64\n",
      " 16  author_Awards_Club      74806 non-null   object \n",
      " 17  author_Not_Forgotten    74806 non-null   object \n",
      " 18  author_Reddit_Premium   74806 non-null   object \n",
      " 19  Reply_ID                129263 non-null  object \n",
      " 20  Reply_parentID          129263 non-null  object \n",
      " 21  Reply_author            129263 non-null  object \n",
      " 22  Reply_body              129263 non-null  object \n",
      " 23  replier_comment_karma   56965 non-null   float64\n",
      " 24  replier_link_karma      56965 non-null   float64\n",
      " 25  replier_create_utc      56965 non-null   float64\n",
      " 26  replier_create_date     56965 non-null   object \n",
      " 27  replier_age_of_account  56965 non-null   float64\n",
      " 28  replier_mod             56965 non-null   object \n",
      " 29  replier_mod_subreddits  56965 non-null   object \n",
      " 30  replier_trophies        56965 non-null   object \n",
      " 31  replier_Email_verified  56965 non-null   object \n",
      " 32  replier_Year_Club       56387 non-null   float64\n",
      " 33  replier_Gilde           10947 non-null   float64\n",
      " 34  replier_Awards_Club     56965 non-null   object \n",
      " 35  replier_Not_Forgotten   56965 non-null   object \n",
      " 36  replier_Reddit_Premium  56965 non-null   object \n",
      " 37  Reply_output            129263 non-null  object \n",
      " 38  Reply_effectiveness     129263 non-null  float64\n",
      "dtypes: float64(13), int64(1), object(25)\n",
      "memory usage: 39.4+ MB\n"
     ]
    }
   ],
   "source": [
    "data = pd.read_csv(\"data_reply_and_user.csv\").set_index('Hate_author')\n",
    "data.info()"
   ]
  },
  {
   "cell_type": "code",
   "execution_count": 5,
   "id": "9f22aa2e-fbc9-4a94-a7d2-6406144a8a06",
   "metadata": {},
   "outputs": [
    {
     "name": "stdout",
     "output_type": "stream",
     "text": [
      "author_Gilde\n",
      "1.0     14084\n",
      "4.0      1045\n",
      "5.0       427\n",
      "7.0       191\n",
      "6.0       100\n",
      "10.0        4\n",
      "Name: count, dtype: int64\n",
      "replier_Gilde\n",
      "1.0     9620\n",
      "4.0      767\n",
      "5.0      319\n",
      "7.0      184\n",
      "6.0       51\n",
      "10.0       6\n",
      "Name: count, dtype: int64\n"
     ]
    }
   ],
   "source": [
    "#printing amounts of gilde to see how that original mapping system even happened...\n",
    "print(data['author_Gilde'].value_counts())\n",
    "print(data['replier_Gilde'].value_counts())"
   ]
  },
  {
   "cell_type": "code",
   "execution_count": 62,
   "id": "eed4e214-4bd4-472d-8f68-03599d05dde0",
   "metadata": {},
   "outputs": [
    {
     "name": "stdout",
     "output_type": "stream",
     "text": [
      "<class 'pandas.core.frame.DataFrame'>\n",
      "RangeIndex: 35780 entries, 0 to 35779\n",
      "Data columns (total 14 columns):\n",
      " #   Column          Non-Null Count  Dtype \n",
      "---  ------          --------------  ----- \n",
      " 0   Unnamed: 0      35780 non-null  int64 \n",
      " 1   author          35780 non-null  object\n",
      " 2   comment_karma   35780 non-null  int64 \n",
      " 3   link_karma      35780 non-null  int64 \n",
      " 4   create_utc      35780 non-null  int64 \n",
      " 5   mod             35780 non-null  bool  \n",
      " 6   mod_subreddits  35780 non-null  object\n",
      " 7   trophies        35780 non-null  object\n",
      " 8   Email_Verified  35780 non-null  object\n",
      " 9   Year_Club       35438 non-null  object\n",
      " 10  Gilde           6119 non-null   object\n",
      " 11  Awards_Club     35780 non-null  object\n",
      " 12  Not_Forgotten   35780 non-null  object\n",
      " 13  Reddit_Premium  35780 non-null  object\n",
      "dtypes: bool(1), int64(4), object(9)\n",
      "memory usage: 3.6+ MB\n"
     ]
    }
   ],
   "source": [
    "profiles = pd.read_csv('user_info_curr.csv')\n",
    "profiles.info()"
   ]
  },
  {
   "cell_type": "code",
   "execution_count": 96,
   "id": "a1a499b3-8d1b-49f6-a846-623015486e4a",
   "metadata": {},
   "outputs": [
    {
     "name": "stdout",
     "output_type": "stream",
     "text": [
      "0          Nine-Year Club\n",
      "1         100 Awards Club\n",
      "2          Verified Email\n",
      "3           One-Year Club\n",
      "4         Three-Year Club\n",
      "               ...       \n",
      "118270      Two-Year Club\n",
      "118271     Verified Email\n",
      "118272      Six-Year Club\n",
      "118273      Not Forgotten\n",
      "118274     Verified Email\n",
      "Length: 118275, dtype: object\n"
     ]
    }
   ],
   "source": [
    "rawT = []\n",
    "finT = []\n",
    "tempT = profiles['trophies'].to_numpy().tolist()\n",
    "for x in tempT:\n",
    "    s = (x.split(','))\n",
    "    for s1 in s:\n",
    "        rawT.append(s1)\n",
    "\n",
    "for x in rawT:\n",
    "    s = x.strip()\n",
    "    finT.append(s.strip(\"\\''[]\\\"\"))\n",
    "trophies = pd.Series(finT)\n",
    "print(trophies)"
   ]
  },
  {
   "cell_type": "code",
   "execution_count": 101,
   "id": "5fb57597-a425-4e30-98bf-762b212a600a",
   "metadata": {},
   "outputs": [],
   "source": [
    "finalT = trophies.value_counts()\n",
    "finalT.to_csv(\"trophies.csv\")"
   ]
  },
  {
   "cell_type": "code",
   "execution_count": null,
   "id": "624b5d42-ce05-4f78-acdf-be4811e4c5d9",
   "metadata": {},
   "outputs": [],
   "source": []
  }
 ],
 "metadata": {
  "kernelspec": {
   "display_name": "Python 3 (ipykernel)",
   "language": "python",
   "name": "python3"
  },
  "language_info": {
   "codemirror_mode": {
    "name": "ipython",
    "version": 3
   },
   "file_extension": ".py",
   "mimetype": "text/x-python",
   "name": "python",
   "nbconvert_exporter": "python",
   "pygments_lexer": "ipython3",
   "version": "3.10.11"
  }
 },
 "nbformat": 4,
 "nbformat_minor": 5
}
